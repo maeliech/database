{
  "nbformat": 4,
  "nbformat_minor": 0,
  "metadata": {
    "colab": {
      "provenance": [],
      "collapsed_sections": [],
      "authorship_tag": "ABX9TyPfXXZmq6+K1MlvEPyqGVlh",
      "include_colab_link": true
    },
    "kernelspec": {
      "name": "python3",
      "display_name": "Python 3"
    },
    "language_info": {
      "name": "python"
    }
  },
  "cells": [
    {
      "cell_type": "markdown",
      "metadata": {
        "id": "view-in-github",
        "colab_type": "text"
      },
      "source": [
        "<a href=\"https://colab.research.google.com/github/maeliech/database/blob/main/week9_DBLab.ipynb\" target=\"_parent\"><img src=\"https://colab.research.google.com/assets/colab-badge.svg\" alt=\"Open In Colab\"/></a>"
      ]
    },
    {
      "cell_type": "code",
      "execution_count": 13,
      "metadata": {
        "id": "xKPPWle3iEDh"
      },
      "outputs": [],
      "source": [
        "from sqlalchemy import create_engine\n",
        "my_conn = create_engine(\"sqlite:////content/my_db.db/\")"
      ]
    },
    {
      "cell_type": "code",
      "source": [
        "r_set=my_conn.execute('''\n",
        "CREATE TABLE student(\n",
        "    id int NOT NULL,\n",
        "    name varchar(64),\n",
        "    class varchar(32),\n",
        "    mark integer,\n",
        "    sex varchar(32),\n",
        "    PRIMARY KEY (id)\n",
        ");\n",
        " ''')"
      ],
      "metadata": {
        "id": "6s92MnBcil6p"
      },
      "execution_count": 14,
      "outputs": []
    },
    {
      "cell_type": "code",
      "source": [
        "my_conn.execute(''' INSERT INTO student (id, name, class, mark, sex) VALUES\n",
        "(1, 'John Deo', 'Four', 75, 'female'),\n",
        "(2, 'Max Ruin', 'Three', 85, 'male'),\n",
        "(3, 'Arnold', 'Three', 55, 'male'),\n",
        "(4, 'Krish Star', 'Four', 60, 'female'),\n",
        "(5, 'John Mike', 'Four', 60, 'female'),\n",
        "(6, 'Alex John', 'Four', 55, 'male'),\n",
        "(7, 'My John Rob', 'Five', 78, 'male'),\n",
        "(8, 'Asruid', 'Five', 85, 'male'),\n",
        "(9, 'Tes Qry', 'Six', 78, 'male'),\n",
        "(10, 'Big John', 'Four', 55, 'female'),\n",
        "(11, 'Ronald', 'Six', 89, 'female'),\n",
        "(27, 'Big Nose', 'Three', 81, 'female'),\n",
        "(28, 'Rojj Base', 'Seven', 86, 'female'),\n",
        "(29, 'Tess Played', 'Seven', 55, 'male'),\n",
        "(30, 'Reppy Red', 'Six', 79, 'female'),\n",
        "(31, 'Marry Toeey', 'Four', 88, 'male'),\n",
        "(32, 'Binn Rott', 'Seven', 90, 'female'),\n",
        "(33, 'Kenn Rein', 'Six', 96, 'female'),\n",
        "(34, 'Gain Toe', 'Seven', 69, 'male'),\n",
        "(35, 'Rows Noump', 'Six', 88, 'female');\n",
        "''')"
      ],
      "metadata": {
        "colab": {
          "base_uri": "https://localhost:8080/"
        },
        "id": "xGApXevOjccp",
        "outputId": "e5e15df3-f383-4155-884e-b83082c75e52"
      },
      "execution_count": 15,
      "outputs": [
        {
          "output_type": "execute_result",
          "data": {
            "text/plain": [
              "<sqlalchemy.engine.cursor.LegacyCursorResult at 0x7f4c195eb2d0>"
            ]
          },
          "metadata": {},
          "execution_count": 15
        }
      ]
    },
    {
      "cell_type": "code",
      "source": [
        "from sqlalchemy.exc import SQLAlchemyError\n",
        "try:\n",
        "  my_conn.execute('''DROP table student;''')\n",
        "  print(\"student table deleted\")\n",
        "except SQLAlchemyError as e:\n",
        "  error=str(e._dict_['orig'])\n",
        "  print(error)\n"
      ],
      "metadata": {
        "colab": {
          "base_uri": "https://localhost:8080/"
        },
        "id": "G9gCiPMqj6IZ",
        "outputId": "f5d8c888-d6d0-4b96-a347-13931e3c212c"
      },
      "execution_count": 20,
      "outputs": [
        {
          "output_type": "stream",
          "name": "stdout",
          "text": [
            "student table deleted\n"
          ]
        }
      ]
    },
    {
      "cell_type": "code",
      "source": [
        "my_conn = create_engine(\"sqlite:////content/my_db.db/\")"
      ],
      "metadata": {
        "id": "B1LGGtfqmCcf"
      },
      "execution_count": 9,
      "outputs": []
    },
    {
      "cell_type": "code",
      "source": [
        "#open file and run script\n",
        "with open(\"student_tables.sql\",\"r\") as file:\n",
        "  query = file.read()\n",
        "  my_conn.execute(query)\n"
      ],
      "metadata": {
        "id": "uH4tCkoDlKJT"
      },
      "execution_count": 21,
      "outputs": []
    },
    {
      "cell_type": "code",
      "source": [
        "from sqlalchemy import create_engine\n",
        "#show list of tables\n",
        "r_set = my_conn.execute(\"SELECT name FROM sqlite_master WHERE type='table' ;\")\n",
        "for row in r_set:\n",
        "  print(row)"
      ],
      "metadata": {
        "colab": {
          "base_uri": "https://localhost:8080/"
        },
        "id": "XUVgP0Z4kVy6",
        "outputId": "3dc159d8-18a1-4ad8-f015-6b3d96ddc737"
      },
      "execution_count": 23,
      "outputs": [
        {
          "output_type": "stream",
          "name": "stdout",
          "text": [
            "('category',)\n",
            "('subcategory',)\n",
            "('student',)\n"
          ]
        }
      ]
    },
    {
      "cell_type": "code",
      "source": [
        "#open file and run script\n",
        "with open(\"student_insert.sql\",\"r\") as file:\n",
        "  query = file.read()\n",
        "  my_conn.execute(query)\n",
        "\n",
        "  r_set=my_conn.execute('''SELECT * FROM student''');\n",
        "  for row in r_set:\n",
        "    print(row)"
      ],
      "metadata": {
        "colab": {
          "base_uri": "https://localhost:8080/"
        },
        "id": "QCtt5c-GnJy3",
        "outputId": "a6c2d093-6686-4a80-dac2-7b5b57b5c595"
      },
      "execution_count": 26,
      "outputs": [
        {
          "output_type": "stream",
          "name": "stdout",
          "text": [
            "(1, 'John Deo', 'Four', 75, 'female')\n",
            "(2, 'Max Ruin', 'Three', 85, 'male')\n",
            "(3, 'Arnold', 'Three', 55, 'male')\n",
            "(4, 'Krish Star', 'Four', 60, 'female')\n",
            "(5, 'John Mike', 'Four', 60, 'female')\n",
            "(6, 'Alex John', 'Four', 55, 'male')\n",
            "(7, 'My John Rob', 'Five', 78, 'male')\n",
            "(8, 'Asruid', 'Five', 85, 'male')\n",
            "(9, 'Tes Qry', 'Six', 78, 'male')\n",
            "(10, 'Big John', 'Four', 55, 'female')\n",
            "(11, 'Ronald', 'Six', 89, 'female')\n",
            "(27, 'Big Nose', 'Three', 81, 'female')\n",
            "(28, 'Rojj Base', 'Seven', 86, 'female')\n",
            "(29, 'Tess Played', 'Seven', 55, 'male')\n",
            "(30, 'Reppy Red', 'Six', 79, 'female')\n",
            "(31, 'Marry Toeey', 'Four', 88, 'male')\n",
            "(32, 'Binn Rott', 'Seven', 90, 'female')\n",
            "(33, 'Kenn Rein', 'Six', 96, 'female')\n",
            "(34, 'Gain Toe', 'Seven', 69, 'male')\n",
            "(35, 'Rows Noump', 'Six', 88, 'female')\n"
          ]
        }
      ]
    },
    {
      "cell_type": "code",
      "source": [
        "from sqlalchemy.exc import SQLAlchemyError\n",
        "q=\"UPDATE student SET mark=mark+1\"\n",
        "try:\n",
        "  r_set=my_conn.execute(q)\n",
        "except SQLAlchemyError as e:\n",
        "  error=str(e._dict_['orig'])\n",
        "  print(error) \n",
        "else:\n",
        "  print(\"No of records updated : \", r_set.rowcount)\n"
      ],
      "metadata": {
        "colab": {
          "base_uri": "https://localhost:8080/"
        },
        "id": "AjeimSU1lfKK",
        "outputId": "6bbc6579-1b8c-45c6-eb46-2fc5ea25c25a"
      },
      "execution_count": 28,
      "outputs": [
        {
          "output_type": "stream",
          "name": "stdout",
          "text": [
            "No of records updated :  20\n"
          ]
        }
      ]
    },
    {
      "cell_type": "code",
      "source": [
        "r_set=my_conn.execute('''SELECT * FROM student''');\n",
        "for row in r_set:\n",
        "  print(row)"
      ],
      "metadata": {
        "colab": {
          "base_uri": "https://localhost:8080/"
        },
        "id": "rgaqVaHCoQs6",
        "outputId": "8c200b02-c0c2-4dce-f656-7a3d6f9aa3fb"
      },
      "execution_count": 29,
      "outputs": [
        {
          "output_type": "stream",
          "name": "stdout",
          "text": [
            "(1, 'John Deo', 'Four', 76, 'female')\n",
            "(2, 'Max Ruin', 'Three', 86, 'male')\n",
            "(3, 'Arnold', 'Three', 56, 'male')\n",
            "(4, 'Krish Star', 'Four', 61, 'female')\n",
            "(5, 'John Mike', 'Four', 61, 'female')\n",
            "(6, 'Alex John', 'Four', 56, 'male')\n",
            "(7, 'My John Rob', 'Five', 79, 'male')\n",
            "(8, 'Asruid', 'Five', 86, 'male')\n",
            "(9, 'Tes Qry', 'Six', 79, 'male')\n",
            "(10, 'Big John', 'Four', 56, 'female')\n",
            "(11, 'Ronald', 'Six', 90, 'female')\n",
            "(27, 'Big Nose', 'Three', 82, 'female')\n",
            "(28, 'Rojj Base', 'Seven', 87, 'female')\n",
            "(29, 'Tess Played', 'Seven', 56, 'male')\n",
            "(30, 'Reppy Red', 'Six', 80, 'female')\n",
            "(31, 'Marry Toeey', 'Four', 89, 'male')\n",
            "(32, 'Binn Rott', 'Seven', 91, 'female')\n",
            "(33, 'Kenn Rein', 'Six', 97, 'female')\n",
            "(34, 'Gain Toe', 'Seven', 70, 'male')\n",
            "(35, 'Rows Noump', 'Six', 89, 'female')\n"
          ]
        }
      ]
    },
    {
      "cell_type": "code",
      "source": [
        "from sqlalchemy.exc import SQLAlchemyError\n",
        "q=\"UPDATE student SET mark=mark+1 WHERE id=7\"\n",
        "try:\n",
        "  r_set=my_conn.execute(q)\n",
        "except SQLAlchemyError as e:\n",
        "  error=str(e._dict_['orig'])\n",
        "  print(error) \n",
        "else:\n",
        "  print(\"No of records updated: \", r_set.rowcount)"
      ],
      "metadata": {
        "colab": {
          "base_uri": "https://localhost:8080/"
        },
        "id": "fa3ussTNoc48",
        "outputId": "7f2b5523-a11f-44f1-aa6a-1a191ffdfa55"
      },
      "execution_count": 32,
      "outputs": [
        {
          "output_type": "stream",
          "name": "stdout",
          "text": [
            "No of records updated:  1\n"
          ]
        }
      ]
    },
    {
      "cell_type": "code",
      "source": [
        "r_set=my_conn.execute('''SELECT * FROM student''');\n",
        "for row in r_set:\n",
        "  print(row)"
      ],
      "metadata": {
        "colab": {
          "base_uri": "https://localhost:8080/"
        },
        "id": "i0FZcHEQpKee",
        "outputId": "9cc03e26-2c7b-421e-a76a-42e12a541d18"
      },
      "execution_count": 33,
      "outputs": [
        {
          "output_type": "stream",
          "name": "stdout",
          "text": [
            "(1, 'John Deo', 'Four', 76, 'female')\n",
            "(2, 'Max Ruin', 'Three', 86, 'male')\n",
            "(3, 'Arnold', 'Three', 56, 'male')\n",
            "(4, 'Krish Star', 'Four', 61, 'female')\n",
            "(5, 'John Mike', 'Four', 61, 'female')\n",
            "(6, 'Alex John', 'Four', 56, 'male')\n",
            "(7, 'My John Rob', 'Five', 82, 'male')\n",
            "(8, 'Asruid', 'Five', 86, 'male')\n",
            "(9, 'Tes Qry', 'Six', 79, 'male')\n",
            "(10, 'Big John', 'Four', 56, 'female')\n",
            "(11, 'Ronald', 'Six', 90, 'female')\n",
            "(27, 'Big Nose', 'Three', 82, 'female')\n",
            "(28, 'Rojj Base', 'Seven', 87, 'female')\n",
            "(29, 'Tess Played', 'Seven', 56, 'male')\n",
            "(30, 'Reppy Red', 'Six', 80, 'female')\n",
            "(31, 'Marry Toeey', 'Four', 89, 'male')\n",
            "(32, 'Binn Rott', 'Seven', 91, 'female')\n",
            "(33, 'Kenn Rein', 'Six', 97, 'female')\n",
            "(34, 'Gain Toe', 'Seven', 70, 'male')\n",
            "(35, 'Rows Noump', 'Six', 89, 'female')\n"
          ]
        }
      ]
    },
    {
      "cell_type": "code",
      "source": [
        "from sqlalchemy.exc import SQLAlchemyError\n",
        "q=\"UPDATE student SET mark=mark+1 WHERE class='Four' \"\n",
        "try:\n",
        "  r_set=my_conn.execute(q)\n",
        "except SQLAlchemyError as e:\n",
        "  error=str(e._dict_['orig'])\n",
        "  print(error)\n",
        "else:\n",
        "  print(\"No of records updated :\", r_set.rowcount)"
      ],
      "metadata": {
        "colab": {
          "base_uri": "https://localhost:8080/"
        },
        "id": "DoNW-OLCqBib",
        "outputId": "025eab39-4f7c-443a-c226-4c906de7c0ca"
      },
      "execution_count": 34,
      "outputs": [
        {
          "output_type": "stream",
          "name": "stdout",
          "text": [
            "No of records updated : 6\n"
          ]
        }
      ]
    },
    {
      "cell_type": "code",
      "source": [
        "r_set=my_conn.execute('''SELECT * FROM student''');\n",
        "for row in r_set:\n",
        "  print(row)"
      ],
      "metadata": {
        "colab": {
          "base_uri": "https://localhost:8080/"
        },
        "id": "fdsmTiTMrGwR",
        "outputId": "e9a84f2c-9ffa-46a9-81fa-f694e9266272"
      },
      "execution_count": 35,
      "outputs": [
        {
          "output_type": "stream",
          "name": "stdout",
          "text": [
            "(1, 'John Deo', 'Four', 77, 'female')\n",
            "(2, 'Max Ruin', 'Three', 86, 'male')\n",
            "(3, 'Arnold', 'Three', 56, 'male')\n",
            "(4, 'Krish Star', 'Four', 62, 'female')\n",
            "(5, 'John Mike', 'Four', 62, 'female')\n",
            "(6, 'Alex John', 'Four', 57, 'male')\n",
            "(7, 'My John Rob', 'Five', 82, 'male')\n",
            "(8, 'Asruid', 'Five', 86, 'male')\n",
            "(9, 'Tes Qry', 'Six', 79, 'male')\n",
            "(10, 'Big John', 'Four', 57, 'female')\n",
            "(11, 'Ronald', 'Six', 90, 'female')\n",
            "(27, 'Big Nose', 'Three', 82, 'female')\n",
            "(28, 'Rojj Base', 'Seven', 87, 'female')\n",
            "(29, 'Tess Played', 'Seven', 56, 'male')\n",
            "(30, 'Reppy Red', 'Six', 80, 'female')\n",
            "(31, 'Marry Toeey', 'Four', 90, 'male')\n",
            "(32, 'Binn Rott', 'Seven', 91, 'female')\n",
            "(33, 'Kenn Rein', 'Six', 97, 'female')\n",
            "(34, 'Gain Toe', 'Seven', 70, 'male')\n",
            "(35, 'Rows Noump', 'Six', 89, 'female')\n"
          ]
        }
      ]
    },
    {
      "cell_type": "code",
      "source": [
        "from sqlalchemy.exc import SQLAlchemyError\n",
        "q=\"UPDATE student SET class='Four' WHERE class='Three' \"\n",
        "try:\n",
        "  r_set=my_conn.execute(q)\n",
        "except SQLAlchemyError as e:\n",
        "  error=str(e._dict_['orig'])\n",
        "  print(error)\n",
        "else:\n",
        "  print(\"No of records updated :\", r_set.rowcount)"
      ],
      "metadata": {
        "colab": {
          "base_uri": "https://localhost:8080/"
        },
        "id": "H4W87NjDrK85",
        "outputId": "7c895825-fd66-4dbf-b724-f6dfc6170803"
      },
      "execution_count": 36,
      "outputs": [
        {
          "output_type": "stream",
          "name": "stdout",
          "text": [
            "No of records updated : 3\n"
          ]
        }
      ]
    },
    {
      "cell_type": "code",
      "source": [
        "r_set=my_conn.execute('''SELECT * FROM student''');\n",
        "for row in r_set:\n",
        "  print(row)"
      ],
      "metadata": {
        "colab": {
          "base_uri": "https://localhost:8080/"
        },
        "id": "galJ5vwirZ2-",
        "outputId": "641822ee-5427-444c-caf3-1f3406dc6d72"
      },
      "execution_count": 37,
      "outputs": [
        {
          "output_type": "stream",
          "name": "stdout",
          "text": [
            "(1, 'John Deo', 'Four', 77, 'female')\n",
            "(2, 'Max Ruin', 'Four', 86, 'male')\n",
            "(3, 'Arnold', 'Four', 56, 'male')\n",
            "(4, 'Krish Star', 'Four', 62, 'female')\n",
            "(5, 'John Mike', 'Four', 62, 'female')\n",
            "(6, 'Alex John', 'Four', 57, 'male')\n",
            "(7, 'My John Rob', 'Five', 82, 'male')\n",
            "(8, 'Asruid', 'Five', 86, 'male')\n",
            "(9, 'Tes Qry', 'Six', 79, 'male')\n",
            "(10, 'Big John', 'Four', 57, 'female')\n",
            "(11, 'Ronald', 'Six', 90, 'female')\n",
            "(27, 'Big Nose', 'Four', 82, 'female')\n",
            "(28, 'Rojj Base', 'Seven', 87, 'female')\n",
            "(29, 'Tess Played', 'Seven', 56, 'male')\n",
            "(30, 'Reppy Red', 'Six', 80, 'female')\n",
            "(31, 'Marry Toeey', 'Four', 90, 'male')\n",
            "(32, 'Binn Rott', 'Seven', 91, 'female')\n",
            "(33, 'Kenn Rein', 'Six', 97, 'female')\n",
            "(34, 'Gain Toe', 'Seven', 70, 'male')\n",
            "(35, 'Rows Noump', 'Six', 89, 'female')\n"
          ]
        }
      ]
    },
    {
      "cell_type": "code",
      "source": [
        "from sqlalchemy.exc import SQLAlchemyError\n",
        "id=input(\"Enter student id : \")\n",
        "my_data=(id,)\n",
        "q=\"UPDATE stdent SET mark=mark+5 WHERE id=?\"\n",
        "try:\n",
        "  r_set=my_conn.execute(q,my_data)\n",
        "except SQLAlchemyError as e:\n",
        "  error=str(e._dict_['orig'])\n",
        "  print(error)\n",
        "else:\n",
        "  print(\"No of records updated : \", r_set.rowcount)\n"
      ],
      "metadata": {
        "colab": {
          "base_uri": "https://localhost:8080/",
          "height": 398
        },
        "id": "yxOB7PPZreMu",
        "outputId": "663df13a-e6b7-486b-f2aa-6d7f6f6460e0"
      },
      "execution_count": 44,
      "outputs": [
        {
          "output_type": "error",
          "ename": "KeyboardInterrupt",
          "evalue": "ignored",
          "traceback": [
            "\u001b[0;31m---------------------------------------------------------------------------\u001b[0m",
            "\u001b[0;31mKeyboardInterrupt\u001b[0m                         Traceback (most recent call last)",
            "\u001b[0;32m<ipython-input-44-4fa06ef8c781>\u001b[0m in \u001b[0;36m<module>\u001b[0;34m\u001b[0m\n\u001b[1;32m      1\u001b[0m \u001b[0;32mfrom\u001b[0m \u001b[0msqlalchemy\u001b[0m\u001b[0;34m.\u001b[0m\u001b[0mexc\u001b[0m \u001b[0;32mimport\u001b[0m \u001b[0mSQLAlchemyError\u001b[0m\u001b[0;34m\u001b[0m\u001b[0;34m\u001b[0m\u001b[0m\n\u001b[0;32m----> 2\u001b[0;31m \u001b[0mid\u001b[0m\u001b[0;34m=\u001b[0m\u001b[0minput\u001b[0m\u001b[0;34m(\u001b[0m\u001b[0;34m\"Enter student id : \"\u001b[0m\u001b[0;34m)\u001b[0m\u001b[0;34m\u001b[0m\u001b[0;34m\u001b[0m\u001b[0m\n\u001b[0m\u001b[1;32m      3\u001b[0m \u001b[0mmy_data\u001b[0m\u001b[0;34m=\u001b[0m\u001b[0;34m(\u001b[0m\u001b[0mid\u001b[0m\u001b[0;34m,\u001b[0m\u001b[0;34m)\u001b[0m\u001b[0;34m\u001b[0m\u001b[0;34m\u001b[0m\u001b[0m\n\u001b[1;32m      4\u001b[0m \u001b[0mq\u001b[0m\u001b[0;34m=\u001b[0m\u001b[0;34m\"UPDATE stdent SET mark=mark+5 WHERE id=?\"\u001b[0m\u001b[0;34m\u001b[0m\u001b[0;34m\u001b[0m\u001b[0m\n\u001b[1;32m      5\u001b[0m \u001b[0;32mtry\u001b[0m\u001b[0;34m:\u001b[0m\u001b[0;34m\u001b[0m\u001b[0;34m\u001b[0m\u001b[0m\n",
            "\u001b[0;32m/usr/local/lib/python3.7/dist-packages/ipykernel/kernelbase.py\u001b[0m in \u001b[0;36mraw_input\u001b[0;34m(self, prompt)\u001b[0m\n\u001b[1;32m    861\u001b[0m             \u001b[0mself\u001b[0m\u001b[0;34m.\u001b[0m\u001b[0m_parent_ident\u001b[0m\u001b[0;34m,\u001b[0m\u001b[0;34m\u001b[0m\u001b[0;34m\u001b[0m\u001b[0m\n\u001b[1;32m    862\u001b[0m             \u001b[0mself\u001b[0m\u001b[0;34m.\u001b[0m\u001b[0m_parent_header\u001b[0m\u001b[0;34m,\u001b[0m\u001b[0;34m\u001b[0m\u001b[0;34m\u001b[0m\u001b[0m\n\u001b[0;32m--> 863\u001b[0;31m             \u001b[0mpassword\u001b[0m\u001b[0;34m=\u001b[0m\u001b[0;32mFalse\u001b[0m\u001b[0;34m,\u001b[0m\u001b[0;34m\u001b[0m\u001b[0;34m\u001b[0m\u001b[0m\n\u001b[0m\u001b[1;32m    864\u001b[0m         )\n\u001b[1;32m    865\u001b[0m \u001b[0;34m\u001b[0m\u001b[0m\n",
            "\u001b[0;32m/usr/local/lib/python3.7/dist-packages/ipykernel/kernelbase.py\u001b[0m in \u001b[0;36m_input_request\u001b[0;34m(self, prompt, ident, parent, password)\u001b[0m\n\u001b[1;32m    902\u001b[0m             \u001b[0;32mexcept\u001b[0m \u001b[0mKeyboardInterrupt\u001b[0m\u001b[0;34m:\u001b[0m\u001b[0;34m\u001b[0m\u001b[0;34m\u001b[0m\u001b[0m\n\u001b[1;32m    903\u001b[0m                 \u001b[0;31m# re-raise KeyboardInterrupt, to truncate traceback\u001b[0m\u001b[0;34m\u001b[0m\u001b[0;34m\u001b[0m\u001b[0;34m\u001b[0m\u001b[0m\n\u001b[0;32m--> 904\u001b[0;31m                 \u001b[0;32mraise\u001b[0m \u001b[0mKeyboardInterrupt\u001b[0m\u001b[0;34m(\u001b[0m\u001b[0;34m\"Interrupted by user\"\u001b[0m\u001b[0;34m)\u001b[0m \u001b[0;32mfrom\u001b[0m \u001b[0;32mNone\u001b[0m\u001b[0;34m\u001b[0m\u001b[0;34m\u001b[0m\u001b[0m\n\u001b[0m\u001b[1;32m    905\u001b[0m             \u001b[0;32mexcept\u001b[0m \u001b[0mException\u001b[0m \u001b[0;32mas\u001b[0m \u001b[0me\u001b[0m\u001b[0;34m:\u001b[0m\u001b[0;34m\u001b[0m\u001b[0;34m\u001b[0m\u001b[0m\n\u001b[1;32m    906\u001b[0m                 \u001b[0mself\u001b[0m\u001b[0;34m.\u001b[0m\u001b[0mlog\u001b[0m\u001b[0;34m.\u001b[0m\u001b[0mwarning\u001b[0m\u001b[0;34m(\u001b[0m\u001b[0;34m\"Invalid Message:\"\u001b[0m\u001b[0;34m,\u001b[0m \u001b[0mexc_info\u001b[0m\u001b[0;34m=\u001b[0m\u001b[0;32mTrue\u001b[0m\u001b[0;34m)\u001b[0m\u001b[0;34m\u001b[0m\u001b[0;34m\u001b[0m\u001b[0m\n",
            "\u001b[0;31mKeyboardInterrupt\u001b[0m: Interrupted by user"
          ]
        }
      ]
    },
    {
      "cell_type": "code",
      "source": [
        "from sqlalchemy.exc import SQLAlchemyError\n",
        "my_data=('Six','Seven')\n",
        "q=\"UPDATE student SET class=? WHERE class=?\"\n",
        "try:\n",
        "  r_set=my_conn.execute(q,my_data)\n",
        "except SQLAlchemyError as e:\n",
        "  error=str(\"e._dict_['orig']\")\n",
        "  print(error)\n",
        "else:\n",
        "  print(\"No of records updated : \", r_set.rowcount)"
      ],
      "metadata": {
        "colab": {
          "base_uri": "https://localhost:8080/"
        },
        "id": "c3Vk3rFjs6AR",
        "outputId": "9c65f645-325c-4cbe-e46d-b5b8b094678f"
      },
      "execution_count": 45,
      "outputs": [
        {
          "output_type": "stream",
          "name": "stdout",
          "text": [
            "No of records updated :  0\n"
          ]
        }
      ]
    },
    {
      "cell_type": "code",
      "source": [
        "r_set=my_conn.execute('''SELECT * FROM student''');\n",
        "for row in r_set:\n",
        "  print(row)"
      ],
      "metadata": {
        "colab": {
          "base_uri": "https://localhost:8080/"
        },
        "id": "697I3ic0tfxf",
        "outputId": "f8f87c54-aca5-4177-f8f9-adb4674e905c"
      },
      "execution_count": 43,
      "outputs": [
        {
          "output_type": "stream",
          "name": "stdout",
          "text": [
            "(1, 'John Deo', 'Four', 77, 'female')\n",
            "(2, 'Max Ruin', 'Four', 86, 'male')\n",
            "(3, 'Arnold', 'Four', 56, 'male')\n",
            "(4, 'Krish Star', 'Four', 62, 'female')\n",
            "(5, 'John Mike', 'Four', 62, 'female')\n",
            "(6, 'Alex John', 'Four', 57, 'male')\n",
            "(7, 'My John Rob', 'Five', 82, 'male')\n",
            "(8, 'Asruid', 'Five', 86, 'male')\n",
            "(9, 'Tes Qry', 'Six', 79, 'male')\n",
            "(10, 'Big John', 'Four', 57, 'female')\n",
            "(11, 'Ronald', 'Six', 90, 'female')\n",
            "(27, 'Big Nose', 'Four', 82, 'female')\n",
            "(28, 'Rojj Base', 'Six', 87, 'female')\n",
            "(29, 'Tess Played', 'Six', 56, 'male')\n",
            "(30, 'Reppy Red', 'Six', 80, 'female')\n",
            "(31, 'Marry Toeey', 'Four', 90, 'male')\n",
            "(32, 'Binn Rott', 'Six', 91, 'female')\n",
            "(33, 'Kenn Rein', 'Six', 97, 'female')\n",
            "(34, 'Gain Toe', 'Six', 70, 'male')\n",
            "(35, 'Rows Noump', 'Six', 89, 'female')\n"
          ]
        }
      ]
    },
    {
      "cell_type": "code",
      "source": [
        "from sqlalchemy.exc import SQLAlchemyError\n",
        "q=\"SELECT DISTINCT(class) FROM student\"\n",
        "try:\n",
        "  r_set=my_conn.execute(q)\n",
        "  data=r_set.fetchall()\n",
        "  for row in data:\n",
        "    print(row[0])\n",
        "except SQLAlchemyError as e:\n",
        "  error=str(\"e._dict_['orig']\")\n",
        "  print(error)\n",
        "else:\n",
        "  print(\"No of records updated : \", r_set.rowcount)"
      ],
      "metadata": {
        "colab": {
          "base_uri": "https://localhost:8080/"
        },
        "id": "eGDdWKPGtjl7",
        "outputId": "68e640ec-fbc8-4644-d143-9a29894578dd"
      },
      "execution_count": 46,
      "outputs": [
        {
          "output_type": "stream",
          "name": "stdout",
          "text": [
            "Four\n",
            "Five\n",
            "Six\n",
            "No of records updated :  -1\n"
          ]
        }
      ]
    },
    {
      "cell_type": "code",
      "source": [
        "from sqlalchemy.exc import SQLAlchemyError\n",
        "q=\"SELECT DISTINCT(class) FROM student WHERE mark>=80\"\n",
        "try:\n",
        "  r_set=my_conn.execute(q)\n",
        "  data=r_set.fetchall()\n",
        "  for row in data:\n",
        "    print(row[0])\n",
        "except SQLAlchemyError as e:\n",
        "  error=str(e._dict_['orig'])\n",
        "  print(error)\n",
        "else:\n",
        "  print(\"No of records displayed : \", len(data))"
      ],
      "metadata": {
        "colab": {
          "base_uri": "https://localhost:8080/"
        },
        "id": "yNXK4kemuAov",
        "outputId": "e2fb6374-a31a-47f1-b9fe-4d7b423501f0"
      },
      "execution_count": 47,
      "outputs": [
        {
          "output_type": "stream",
          "name": "stdout",
          "text": [
            "Four\n",
            "Five\n",
            "Six\n",
            "No of records updated :  3\n"
          ]
        }
      ]
    },
    {
      "cell_type": "code",
      "source": [
        "from sqlalchemy.exc import SQLAlchemyError\n",
        "q=\"SELECT DISTINCT(class) FROM student order by class\"\n",
        "try:\n",
        "  r_set=my_conn.execute(q)\n",
        "  data=r_set.fetchall()\n",
        "  for row in data:\n",
        "    print(row[0])\n",
        "except SQLAlchemyError as e:\n",
        "  error=str(e._dict_['orig'])\n",
        "  print(error)\n",
        "else:\n",
        "  print(\"No of records displayed :\", len(data))"
      ],
      "metadata": {
        "colab": {
          "base_uri": "https://localhost:8080/"
        },
        "id": "NuEDDJqBuRAq",
        "outputId": "f64f4562-ddb0-4def-8199-d7367fa87baf"
      },
      "execution_count": 49,
      "outputs": [
        {
          "output_type": "stream",
          "name": "stdout",
          "text": [
            "Five\n",
            "Four\n",
            "Six\n",
            "No of records displayed : 3\n"
          ]
        }
      ]
    },
    {
      "cell_type": "code",
      "source": [
        "from sqlalchemy.exc import SQLAlchemyError\n",
        "q=\"SELECT DISTINCT class,sex FROM student order by class\"\n",
        "try:\n",
        "  r_set=my_conn.execute(q)\n",
        "  data=r_set.fetchall()\n",
        "  for row in data:\n",
        "    print(row[0],row[1])\n",
        "except SQLAlchemyError as e:\n",
        "  error=str(e._dict_['orig'])\n",
        "  print(error)\n",
        "else:\n",
        "  print(\"No of records displayed :\", len(data))"
      ],
      "metadata": {
        "colab": {
          "base_uri": "https://localhost:8080/"
        },
        "id": "H1GXEEBOuaG7",
        "outputId": "e5c4a129-ef74-4a92-8d0c-c923ba93dd40"
      },
      "execution_count": 51,
      "outputs": [
        {
          "output_type": "stream",
          "name": "stdout",
          "text": [
            "Five male\n",
            "Four female\n",
            "Four male\n",
            "Six male\n",
            "Six female\n",
            "No of records displayed : 5\n"
          ]
        }
      ]
    },
    {
      "cell_type": "code",
      "source": [
        "from sqlalchemy.exc import SQLAlchemyError\n",
        "q=\"DELETE FROM student WHERE id=5\"\n",
        "try:\n",
        "  r_set=my_conn.execute(q)\n",
        "  for row in data:\n",
        "    print(row[0])\n",
        "except SQLAlchemyError as e:\n",
        "  error=str(e._dict_['orig'])\n",
        "  print(error)\n",
        "else:\n",
        "  print(\"No of records deleted :\", r_set.rowcount)"
      ],
      "metadata": {
        "colab": {
          "base_uri": "https://localhost:8080/"
        },
        "id": "yUGqHeQsu4Hk",
        "outputId": "11ec531d-0e1e-42a3-9eed-8fd71fdcfe53"
      },
      "execution_count": 52,
      "outputs": [
        {
          "output_type": "stream",
          "name": "stdout",
          "text": [
            "Five\n",
            "Four\n",
            "Four\n",
            "Six\n",
            "Six\n",
            "No of records deleted : 1\n"
          ]
        }
      ]
    },
    {
      "cell_type": "code",
      "source": [
        "from sqlalchemy.exc import SQLAlchemyError\n",
        "q=\"DELETE FROM student WHERE class='Four' \"\n",
        "try:\n",
        "  r_set=my_conn.execute(q)\n",
        "except SQLAlchemyError as e:\n",
        "  error=str(e._dict_['orig'])\n",
        "  print(error)\n",
        "else:\n",
        "  print(\"No of records deleted :\", r_set.rowcount)"
      ],
      "metadata": {
        "colab": {
          "base_uri": "https://localhost:8080/"
        },
        "id": "RephDrkNvG2J",
        "outputId": "ca47b5d7-4cdc-45e3-f64e-9565cd580465"
      },
      "execution_count": 53,
      "outputs": [
        {
          "output_type": "stream",
          "name": "stdout",
          "text": [
            "No of records deleted : 8\n"
          ]
        }
      ]
    },
    {
      "cell_type": "code",
      "source": [
        "from sqlalchemy.exc import SQLAlchemyError\n",
        "my_data=(\"Five\",)\n",
        "q=\"DELETE FROM student WHERE class=?\"\n",
        "try:\n",
        "  r_set=my_conn.execute(q,my_data)\n",
        "except SQLAlchemyError as e:\n",
        "  error=str(e._dict_['orig'])\n",
        "  print(error)\n",
        "else:\n",
        "  print(\"No of records deleted :\", r_set.rowcount)"
      ],
      "metadata": {
        "colab": {
          "base_uri": "https://localhost:8080/"
        },
        "id": "J1bOOwMSvUb_",
        "outputId": "0a75f8ae-db4a-4e27-f906-60475e10ca00"
      },
      "execution_count": 54,
      "outputs": [
        {
          "output_type": "stream",
          "name": "stdout",
          "text": [
            "No of records deleted : 2\n"
          ]
        }
      ]
    },
    {
      "cell_type": "code",
      "source": [
        "from sqlalchemy.exc import SQLAlchemyError\n",
        "my_data=(\"Six\",\"Seven\")\n",
        "q=\"DELETE FROM student WHERE class=? OR class=?\"\n",
        "try:\n",
        "  r_set=my_conn.execute(q,my_data)\n",
        "except SQLAlchemyError as e:\n",
        "  error=str(e._dict_['orig'])\n",
        "  print(error)\n",
        "else:\n",
        "  print(\"No of records deleted :\", r_set.rowcount)"
      ],
      "metadata": {
        "colab": {
          "base_uri": "https://localhost:8080/"
        },
        "id": "KFTd3XjCvmJb",
        "outputId": "f0ca5ba7-935d-4342-f11b-8cb64a2da9ad"
      },
      "execution_count": 55,
      "outputs": [
        {
          "output_type": "stream",
          "name": "stdout",
          "text": [
            "No of records deleted : 9\n"
          ]
        }
      ]
    },
    {
      "cell_type": "code",
      "source": [
        "from sqlalchemy.exc import SQLAlchemyError\n",
        "q=\"DELETE FROM student\"\n",
        "try:\n",
        "  r_set=my_conn.execute(q)\n",
        "except SQLAlchemyError as e:\n",
        "  error=str(e._dict_['orig'])\n",
        "  print(error)\n",
        "else:\n",
        "  print(\"No of records deleted :\", r_set.rowcount)"
      ],
      "metadata": {
        "colab": {
          "base_uri": "https://localhost:8080/"
        },
        "id": "0oZLZ0Suv5ke",
        "outputId": "1213055c-e2be-4c0e-d36a-cacc62aecee5"
      },
      "execution_count": 56,
      "outputs": [
        {
          "output_type": "stream",
          "name": "stdout",
          "text": [
            "No of records deleted : 0\n"
          ]
        }
      ]
    },
    {
      "cell_type": "code",
      "source": [
        "from sqlalchemy.exc import SQLAlchemyError\n",
        "  r_set=my_conn.execute(q)\n",
        "except SQLAlchemyError as e:\n",
        "  error=str(e._dict_['orig'])\n",
        "  print(error) \n",
        "else:\n",
        "  print(\"No of records updated : \", r_set.rowcount)"
      ],
      "metadata": {
        "id": "55Y1CxMYo8bm"
      },
      "execution_count": null,
      "outputs": []
    }
  ]
}